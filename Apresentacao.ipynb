{
 "cells": [
  {
   "cell_type": "markdown",
   "metadata": {},
   "source": [
    "## **Threads** 🪢"
   ]
  },
  {
   "cell_type": "markdown",
   "metadata": {},
   "source": [
    "### **Autoras** 👩‍💻\n",
    "\n",
    "Desenvolvedores que contribuíram para a estruturação e desenvolvimento deste projeto:\n",
    "\n",
    "- **Iza Lopes Ribeiro** - [Izalp](https://github.com/Izalp)\n",
    "- **Wiliane Carolina Silva** - [wilicarol](https://github.com/wilicarol)"
   ]
  },
  {
   "cell_type": "markdown",
   "metadata": {},
   "source": [
    "### **Apresentação da ideia** 💡\n",
    "\n",
    " Uma simulação em Python que imita vários eventos esportivos olímpicos ocorrendo simultaneamente, usando threads. Este projeto demonstra como lidar com concorrência e paralelismo em Python enquanto simula os diversos eventos que acontecem durante os Jogos Olímpicos."
   ]
  },
  {
   "cell_type": "markdown",
   "metadata": {},
   "source": [
    "#### **Esportes que serão simulados** 🕹️\n",
    "\n",
    "| **Categoria**            | **Esportes**                                                                                   |\n",
    "|--------------------------|-----------------------------------------------------------------------------------------------|\n",
    "| Atletismo                | Atletismo                                                                                      |\n",
    "| Esportes de Raquete       | Badminton, Tênis, Tênis de Mesa                                                                |\n",
    "| Esportes de Equipe        | Basquete, Basquete 3x3, Futebol, Handebol, Rugby Sevens, Vôlei, Vôlei de Praia                |\n",
    "| Lutas                     | Boxe, Judô, Luta, Taekwondo                                                                    |\n",
    "| Danças                    | Breaking                                                                                      |\n",
    "| Esportes Aquáticos        | Canoagem de Velocidade, Canoagem Slalom, Maratona Aquática, Nado Artístico, Natação, Polo Aquático, Saltos Ornamentais, Surfe |\n",
    "| Ciclismo                  | Ciclismo BMX Freestyle, Ciclismo BMX Racing, Ciclismo de Estrada, Ciclismo de Pista, Ciclismo Mountain Bike |\n",
    "| Esportes de Montanha      | Escalada                                                                                     |\n",
    "| Esgrima                   | Esgrima                                                                                      |\n",
    "| Ginástica                 | Ginástica Artística, Ginástica de Trampolim, Ginástica Rítmica                                |\n",
    "| Golfe                     | Golfe                                                                                        |\n",
    "| Esportes Equestres        | Hipismo                                                                                      |\n",
    "| Esportes de Campo         | Hóquei Sobre Grama                                                                            |\n",
    "| Levantamento de Peso      | Levantamento de Peso                                                                          |\n",
    "| Esportes de Remo          | Remo                                                                                         |\n",
    "| Tiro                      | Tiro com Arco, Tiro Esportivo                                                                 |\n",
    "| Multiesportes             | Triatlo                                                                                      |\n",
    "| Esportes Radicais         | Skate                                                                                       |\n",
    "| Vela                      | Vela                                                                                         |\n"
   ]
  },
  {
   "cell_type": "markdown",
   "metadata": {},
   "source": [
    "### **Passos para executar o projeto localmente** 🔗\n",
    "\n",
    "#### 1. **Pré-requisitos**\n",
    "\n",
    "- [Python 3.6 ou superior](https://www.python.org/downloads/)\n",
    "- [Git](https://git-scm.com/downloads) ou cmd (Prompt de Comando)\n",
    "\n",
    "#### 2. **Instalação**\n",
    "\n",
    "- Clone o repositório:\n",
    "\n",
    "  ```bash\n",
    "  git clone https://github.com/Izalp/OlympicsThreads.git\n",
    "  ```\n",
    "\n",
    "#### 3. **Execução**\n",
    "\n",
    "- Execute a simulação usando o comando:\n",
    "  ```bash\n",
    "  python start_olympics/olympics.py\n",
    "  ```"
   ]
  },
  {
   "cell_type": "markdown",
   "metadata": {},
   "source": [
    "### **Código** 💻"
   ]
  },
  {
   "cell_type": "code",
   "execution_count": null,
   "metadata": {},
   "outputs": [],
   "source": [
    "import threading\n",
    "import time\n",
    "import random\n",
    "from sports import sports\n",
    "\n",
    "\n",
    "# Função para simular a execução do esporte, com título e duração específica\n",
    "def sport(title, duration):\n",
    "    time.sleep(duration)\n",
    "    print(f'Modalidade {title} concluída após {duration:.2f} horas.')\n",
    "\n",
    "\n",
    "# Simula o início dos Jogos Olímpicos, distribuindo os esportes ao longo dos dias\n",
    "def start_olympics():\n",
    "    print('\\nOs Jogos Olímpicos em Paris 2024 foram iniciados!\\n')\n",
    "\n",
    "    day_duration = 12  # Duracao maxima de um dia (12 horas)\n",
    "    day_count = 0  # Contador de dias\n",
    "    all_sports = sports.copy()  # Lista de todos os esportes\n",
    "    pending_sports = []  # Lista dos esportes pendentes para o próximo dia\n",
    "\n",
    "    # Executa enquanto houver esportes a serem realizados\n",
    "    while all_sports or pending_sports:\n",
    "        day_count += 1\n",
    "\n",
    "        print(f'--- Início do dia {day_count} ---\\n')\n",
    "\n",
    "        day_remaining = day_duration  # Tempo restante do dia\n",
    "        executed_today = []  # Esportes executados no dia\n",
    "\n",
    "        # Executa os esportes pendentes, se houver tempo no dia\n",
    "        while pending_sports and day_remaining > 0:\n",
    "\n",
    "            # Remove o primeiro esporte da lista de pendentes\n",
    "            title, duration = pending_sports.pop(0)\n",
    "\n",
    "            # Verifica se há tempo suficiente para executar o esporte\n",
    "            if duration <= day_remaining:\n",
    "                # Cria uma thread para o esporte\n",
    "                t = threading.Thread(target=sport, args=(title, duration))\n",
    "                executed_today.append((t, title))\n",
    "\n",
    "                t.start()  # Inicializa a Thread\n",
    "                day_remaining -= duration  # Decrementa o tempo do dia a cada esporte executado\n",
    "            else:\n",
    "                # Reinsere o esporte na lista de pendentes se não houver tempo suficiente\n",
    "                pending_sports.insert(0, (title, duration))\n",
    "                break\n",
    "\n",
    "        # Executa novos esportes, se houver tempo restante no dia\n",
    "        while all_sports and day_remaining > 0:\n",
    "            # Remove o primeiro esporte da lista de todos os esportes\n",
    "            title = all_sports.pop(0)\n",
    "\n",
    "            # Duração aleatória (em horas)\n",
    "            duration = random.uniform((1/60), 5)\n",
    "\n",
    "            # Verifica se há tempo suficiente para executar o esporte\n",
    "            if duration <= day_remaining:\n",
    "                t = threading.Thread(target=sport, args=(title, duration))\n",
    "                executed_today.append((t, title))\n",
    "\n",
    "                t.start()  # Inicializa as Threads\n",
    "                day_remaining -= duration  # Decrementa o tempo do dia a cada esporte executado\n",
    "            else:\n",
    "                pending_sports.append((title, duration))\n",
    "\n",
    "        # Espera que todos os esportes do dia sejam concluídos\n",
    "        for t, title in executed_today:\n",
    "            t.join()\n",
    "\n",
    "        # Exibe o resumo dos esportes executados no dia\n",
    "        executed_sports = ', '.join([title for _, title in executed_today])\n",
    "        print(\n",
    "            f'\\n--- Fim do dia {day_count} ---\\nEsportes executados: {executed_sports}\\n')\n",
    "\n",
    "     # Exibe mensagem de finalização dos Jogos Olímpicos\n",
    "    print(\n",
    "        f'Os Jogos Olímpicos em Paris 2024 foram finalizados após {day_count} dias!\\n')\n",
    "\n",
    "\n",
    "# Inicia a simulação dos Jogos Olímpicos\n",
    "start_olympics()"
   ]
  },
  {
   "cell_type": "markdown",
   "metadata": {},
   "source": [
    "### **Agradecemos a atenção!** 😊"
   ]
  }
 ],
 "metadata": {
  "language_info": {
   "name": "python"
  }
 },
 "nbformat": 4,
 "nbformat_minor": 2
}
