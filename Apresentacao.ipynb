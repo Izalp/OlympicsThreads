{
 "cells": [
  {
   "cell_type": "markdown",
   "metadata": {},
   "source": [
    "## **Threads** 🪢"
   ]
  },
  {
   "cell_type": "markdown",
   "metadata": {},
   "source": [
    "### **Autores** 👩‍💻\n",
    "\n",
    "Desenvolvedores que contribuíram para a estruturação e desenvolvimento deste projeto:\n",
    "\n",
    "- **Iza Lopes Ribeiro** - [Izalp](https://github.com/Izalp)\n",
    "- **Wiliane Carolina Silva** - [wilicarol](https://github.com/wilicarol)"
   ]
  },
  {
   "cell_type": "markdown",
   "metadata": {},
   "source": [
    "### **Apresentação da ideia** 💡\n",
    "\n",
    " Uma simulação em Python que imita vários eventos esportivos olímpicos ocorrendo simultaneamente, usando threads. Este projeto demonstra como lidar com concorrência e paralelismo em Python enquanto simula os diversos eventos que acontecem durante os Jogos Olímpicos."
   ]
  },
  {
   "cell_type": "markdown",
   "metadata": {},
   "source": [
    "#### **Esportes que serão simulados**\n",
    "\n",
    "| **Categoria**            | **Esportes**                                                                                   |\n",
    "|--------------------------|-----------------------------------------------------------------------------------------------|\n",
    "| Atletismo                | Atletismo                                                                                      |\n",
    "| Esportes de Raquete       | Badminton, Tênis, Tênis de Mesa                                                                |\n",
    "| Esportes de Equipe        | Basquete, Basquete 3x3, Futebol, Handebol, Rugby Sevens, Vôlei, Vôlei de Praia                |\n",
    "| Lutas                     | Boxe, Judô, Luta, Taekwondo                                                                    |\n",
    "| Danças                    | Breaking                                                                                      |\n",
    "| Esportes Aquáticos        | Canoagem de Velocidade, Canoagem Slalom, Maratona Aquática, Nado Artístico, Natação, Polo Aquático, Saltos Ornamentais, Surfe |\n",
    "| Ciclismo                  | Ciclismo BMX Freestyle, Ciclismo BMX Racing, Ciclismo de Estrada, Ciclismo de Pista, Ciclismo Mountain Bike |\n",
    "| Esportes de Montanha      | Escalada                                                                                     |\n",
    "| Esgrima                   | Esgrima                                                                                      |\n",
    "| Ginástica                 | Ginástica Artística, Ginástica de Trampolim, Ginástica Rítmica                                |\n",
    "| Golfe                     | Golfe                                                                                        |\n",
    "| Esportes Equestres        | Hipismo                                                                                      |\n",
    "| Esportes de Campo         | Hóquei Sobre Grama                                                                            |\n",
    "| Levantamento de Peso      | Levantamento de Peso                                                                          |\n",
    "| Esportes de Remo          | Remo                                                                                         |\n",
    "| Tiro                      | Tiro com Arco, Tiro Esportivo                                                                 |\n",
    "| Multiesportes             | Triatlo                                                                                      |\n",
    "| Esportes Radicais         | Skate                                                                                       |\n",
    "| Vela                      | Vela                                                                                         |\n"
   ]
  }
 ],
 "metadata": {
  "language_info": {
   "name": "python"
  }
 },
 "nbformat": 4,
 "nbformat_minor": 2
}
